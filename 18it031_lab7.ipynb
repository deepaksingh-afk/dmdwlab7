{
  "nbformat": 4,
  "nbformat_minor": 0,
  "metadata": {
    "colab": {
      "name": "18it031-lab7.ipynb",
      "provenance": [],
      "authorship_tag": "ABX9TyOFsK1GcYQZ4XbBI8A1GZ2/",
      "include_colab_link": true
    },
    "kernelspec": {
      "name": "python3",
      "display_name": "Python 3"
    }
  },
  "cells": [
    {
      "cell_type": "markdown",
      "metadata": {
        "id": "view-in-github",
        "colab_type": "text"
      },
      "source": [
        "<a href=\"https://colab.research.google.com/github/deepaksingh-afk/dmdwlab7/blob/main/18it031_lab7.ipynb\" target=\"_parent\"><img src=\"https://colab.research.google.com/assets/colab-badge.svg\" alt=\"Open In Colab\"/></a>"
      ]
    },
    {
      "cell_type": "code",
      "metadata": {
        "id": "LhdLZmFcOHuD"
      },
      "source": [
        "import pandas as pd\r\n",
        "import numpy as np"
      ],
      "execution_count": 3,
      "outputs": []
    },
    {
      "cell_type": "code",
      "metadata": {
        "id": "522Uk93ZOtZW"
      },
      "source": [
        "dataset = pd.read_csv('https://raw.githubusercontent.com/GouriNayak/DMDW/main/iris.csv')"
      ],
      "execution_count": 4,
      "outputs": []
    },
    {
      "cell_type": "code",
      "metadata": {
        "colab": {
          "base_uri": "https://localhost:8080/",
          "height": 402
        },
        "id": "GAy_LP1JOx2Y",
        "outputId": "5fd20383-f72a-48ef-ae9a-b5655e8285c5"
      },
      "source": [
        "dataset"
      ],
      "execution_count": 5,
      "outputs": [
        {
          "output_type": "execute_result",
          "data": {
            "text/html": [
              "<div>\n",
              "<style scoped>\n",
              "    .dataframe tbody tr th:only-of-type {\n",
              "        vertical-align: middle;\n",
              "    }\n",
              "\n",
              "    .dataframe tbody tr th {\n",
              "        vertical-align: top;\n",
              "    }\n",
              "\n",
              "    .dataframe thead th {\n",
              "        text-align: right;\n",
              "    }\n",
              "</style>\n",
              "<table border=\"1\" class=\"dataframe\">\n",
              "  <thead>\n",
              "    <tr style=\"text-align: right;\">\n",
              "      <th></th>\n",
              "      <th>sepal_length</th>\n",
              "      <th>sepal_width</th>\n",
              "      <th>petal_length</th>\n",
              "      <th>petal_width</th>\n",
              "      <th>species</th>\n",
              "    </tr>\n",
              "  </thead>\n",
              "  <tbody>\n",
              "    <tr>\n",
              "      <th>0</th>\n",
              "      <td>5.1</td>\n",
              "      <td>3.5</td>\n",
              "      <td>1.4</td>\n",
              "      <td>0.2</td>\n",
              "      <td>setosa</td>\n",
              "    </tr>\n",
              "    <tr>\n",
              "      <th>1</th>\n",
              "      <td>4.9</td>\n",
              "      <td>3.0</td>\n",
              "      <td>1.4</td>\n",
              "      <td>0.2</td>\n",
              "      <td>setosa</td>\n",
              "    </tr>\n",
              "    <tr>\n",
              "      <th>2</th>\n",
              "      <td>4.7</td>\n",
              "      <td>3.2</td>\n",
              "      <td>1.3</td>\n",
              "      <td>0.2</td>\n",
              "      <td>setosa</td>\n",
              "    </tr>\n",
              "    <tr>\n",
              "      <th>3</th>\n",
              "      <td>4.6</td>\n",
              "      <td>3.1</td>\n",
              "      <td>1.5</td>\n",
              "      <td>0.2</td>\n",
              "      <td>setosa</td>\n",
              "    </tr>\n",
              "    <tr>\n",
              "      <th>4</th>\n",
              "      <td>5.0</td>\n",
              "      <td>3.6</td>\n",
              "      <td>1.4</td>\n",
              "      <td>0.2</td>\n",
              "      <td>setosa</td>\n",
              "    </tr>\n",
              "    <tr>\n",
              "      <th>...</th>\n",
              "      <td>...</td>\n",
              "      <td>...</td>\n",
              "      <td>...</td>\n",
              "      <td>...</td>\n",
              "      <td>...</td>\n",
              "    </tr>\n",
              "    <tr>\n",
              "      <th>145</th>\n",
              "      <td>6.7</td>\n",
              "      <td>3.0</td>\n",
              "      <td>5.2</td>\n",
              "      <td>2.3</td>\n",
              "      <td>virginica</td>\n",
              "    </tr>\n",
              "    <tr>\n",
              "      <th>146</th>\n",
              "      <td>6.3</td>\n",
              "      <td>2.5</td>\n",
              "      <td>5.0</td>\n",
              "      <td>1.9</td>\n",
              "      <td>virginica</td>\n",
              "    </tr>\n",
              "    <tr>\n",
              "      <th>147</th>\n",
              "      <td>6.5</td>\n",
              "      <td>3.0</td>\n",
              "      <td>5.2</td>\n",
              "      <td>2.0</td>\n",
              "      <td>virginica</td>\n",
              "    </tr>\n",
              "    <tr>\n",
              "      <th>148</th>\n",
              "      <td>6.2</td>\n",
              "      <td>3.4</td>\n",
              "      <td>5.4</td>\n",
              "      <td>2.3</td>\n",
              "      <td>virginica</td>\n",
              "    </tr>\n",
              "    <tr>\n",
              "      <th>149</th>\n",
              "      <td>5.9</td>\n",
              "      <td>3.0</td>\n",
              "      <td>5.1</td>\n",
              "      <td>1.8</td>\n",
              "      <td>virginica</td>\n",
              "    </tr>\n",
              "  </tbody>\n",
              "</table>\n",
              "<p>150 rows × 5 columns</p>\n",
              "</div>"
            ],
            "text/plain": [
              "     sepal_length  sepal_width  petal_length  petal_width    species\n",
              "0             5.1          3.5           1.4          0.2     setosa\n",
              "1             4.9          3.0           1.4          0.2     setosa\n",
              "2             4.7          3.2           1.3          0.2     setosa\n",
              "3             4.6          3.1           1.5          0.2     setosa\n",
              "4             5.0          3.6           1.4          0.2     setosa\n",
              "..            ...          ...           ...          ...        ...\n",
              "145           6.7          3.0           5.2          2.3  virginica\n",
              "146           6.3          2.5           5.0          1.9  virginica\n",
              "147           6.5          3.0           5.2          2.0  virginica\n",
              "148           6.2          3.4           5.4          2.3  virginica\n",
              "149           5.9          3.0           5.1          1.8  virginica\n",
              "\n",
              "[150 rows x 5 columns]"
            ]
          },
          "metadata": {
            "tags": []
          },
          "execution_count": 5
        }
      ]
    },
    {
      "cell_type": "code",
      "metadata": {
        "colab": {
          "base_uri": "https://localhost:8080/",
          "height": 402
        },
        "id": "mvemsZDCO1MO",
        "outputId": "fa54d76b-4c38-4f19-9a62-d6411c6c58bd"
      },
      "source": [
        "dataset.iloc[:,1:5]"
      ],
      "execution_count": 6,
      "outputs": [
        {
          "output_type": "execute_result",
          "data": {
            "text/html": [
              "<div>\n",
              "<style scoped>\n",
              "    .dataframe tbody tr th:only-of-type {\n",
              "        vertical-align: middle;\n",
              "    }\n",
              "\n",
              "    .dataframe tbody tr th {\n",
              "        vertical-align: top;\n",
              "    }\n",
              "\n",
              "    .dataframe thead th {\n",
              "        text-align: right;\n",
              "    }\n",
              "</style>\n",
              "<table border=\"1\" class=\"dataframe\">\n",
              "  <thead>\n",
              "    <tr style=\"text-align: right;\">\n",
              "      <th></th>\n",
              "      <th>sepal_width</th>\n",
              "      <th>petal_length</th>\n",
              "      <th>petal_width</th>\n",
              "      <th>species</th>\n",
              "    </tr>\n",
              "  </thead>\n",
              "  <tbody>\n",
              "    <tr>\n",
              "      <th>0</th>\n",
              "      <td>3.5</td>\n",
              "      <td>1.4</td>\n",
              "      <td>0.2</td>\n",
              "      <td>setosa</td>\n",
              "    </tr>\n",
              "    <tr>\n",
              "      <th>1</th>\n",
              "      <td>3.0</td>\n",
              "      <td>1.4</td>\n",
              "      <td>0.2</td>\n",
              "      <td>setosa</td>\n",
              "    </tr>\n",
              "    <tr>\n",
              "      <th>2</th>\n",
              "      <td>3.2</td>\n",
              "      <td>1.3</td>\n",
              "      <td>0.2</td>\n",
              "      <td>setosa</td>\n",
              "    </tr>\n",
              "    <tr>\n",
              "      <th>3</th>\n",
              "      <td>3.1</td>\n",
              "      <td>1.5</td>\n",
              "      <td>0.2</td>\n",
              "      <td>setosa</td>\n",
              "    </tr>\n",
              "    <tr>\n",
              "      <th>4</th>\n",
              "      <td>3.6</td>\n",
              "      <td>1.4</td>\n",
              "      <td>0.2</td>\n",
              "      <td>setosa</td>\n",
              "    </tr>\n",
              "    <tr>\n",
              "      <th>...</th>\n",
              "      <td>...</td>\n",
              "      <td>...</td>\n",
              "      <td>...</td>\n",
              "      <td>...</td>\n",
              "    </tr>\n",
              "    <tr>\n",
              "      <th>145</th>\n",
              "      <td>3.0</td>\n",
              "      <td>5.2</td>\n",
              "      <td>2.3</td>\n",
              "      <td>virginica</td>\n",
              "    </tr>\n",
              "    <tr>\n",
              "      <th>146</th>\n",
              "      <td>2.5</td>\n",
              "      <td>5.0</td>\n",
              "      <td>1.9</td>\n",
              "      <td>virginica</td>\n",
              "    </tr>\n",
              "    <tr>\n",
              "      <th>147</th>\n",
              "      <td>3.0</td>\n",
              "      <td>5.2</td>\n",
              "      <td>2.0</td>\n",
              "      <td>virginica</td>\n",
              "    </tr>\n",
              "    <tr>\n",
              "      <th>148</th>\n",
              "      <td>3.4</td>\n",
              "      <td>5.4</td>\n",
              "      <td>2.3</td>\n",
              "      <td>virginica</td>\n",
              "    </tr>\n",
              "    <tr>\n",
              "      <th>149</th>\n",
              "      <td>3.0</td>\n",
              "      <td>5.1</td>\n",
              "      <td>1.8</td>\n",
              "      <td>virginica</td>\n",
              "    </tr>\n",
              "  </tbody>\n",
              "</table>\n",
              "<p>150 rows × 4 columns</p>\n",
              "</div>"
            ],
            "text/plain": [
              "     sepal_width  petal_length  petal_width    species\n",
              "0            3.5           1.4          0.2     setosa\n",
              "1            3.0           1.4          0.2     setosa\n",
              "2            3.2           1.3          0.2     setosa\n",
              "3            3.1           1.5          0.2     setosa\n",
              "4            3.6           1.4          0.2     setosa\n",
              "..           ...           ...          ...        ...\n",
              "145          3.0           5.2          2.3  virginica\n",
              "146          2.5           5.0          1.9  virginica\n",
              "147          3.0           5.2          2.0  virginica\n",
              "148          3.4           5.4          2.3  virginica\n",
              "149          3.0           5.1          1.8  virginica\n",
              "\n",
              "[150 rows x 4 columns]"
            ]
          },
          "metadata": {
            "tags": []
          },
          "execution_count": 6
        }
      ]
    },
    {
      "cell_type": "code",
      "metadata": {
        "colab": {
          "base_uri": "https://localhost:8080/"
        },
        "id": "l4aUD9z9O6F6",
        "outputId": "44c90714-51a7-48e9-9fa2-ded6effdb761"
      },
      "source": [
        "dataset.iloc[:,1:4].values"
      ],
      "execution_count": 7,
      "outputs": [
        {
          "output_type": "execute_result",
          "data": {
            "text/plain": [
              "array([[3.5, 1.4, 0.2],\n",
              "       [3. , 1.4, 0.2],\n",
              "       [3.2, 1.3, 0.2],\n",
              "       [3.1, 1.5, 0.2],\n",
              "       [3.6, 1.4, 0.2],\n",
              "       [3.9, 1.7, 0.4],\n",
              "       [3.4, 1.4, 0.3],\n",
              "       [3.4, 1.5, 0.2],\n",
              "       [2.9, 1.4, 0.2],\n",
              "       [3.1, 1.5, 0.1],\n",
              "       [3.7, 1.5, 0.2],\n",
              "       [3.4, 1.6, 0.2],\n",
              "       [3. , 1.4, 0.1],\n",
              "       [3. , 1.1, 0.1],\n",
              "       [4. , 1.2, 0.2],\n",
              "       [4.4, 1.5, 0.4],\n",
              "       [3.9, 1.3, 0.4],\n",
              "       [3.5, 1.4, 0.3],\n",
              "       [3.8, 1.7, 0.3],\n",
              "       [3.8, 1.5, 0.3],\n",
              "       [3.4, 1.7, 0.2],\n",
              "       [3.7, 1.5, 0.4],\n",
              "       [3.6, 1. , 0.2],\n",
              "       [3.3, 1.7, 0.5],\n",
              "       [3.4, 1.9, 0.2],\n",
              "       [3. , 1.6, 0.2],\n",
              "       [3.4, 1.6, 0.4],\n",
              "       [3.5, 1.5, 0.2],\n",
              "       [3.4, 1.4, 0.2],\n",
              "       [3.2, 1.6, 0.2],\n",
              "       [3.1, 1.6, 0.2],\n",
              "       [3.4, 1.5, 0.4],\n",
              "       [4.1, 1.5, 0.1],\n",
              "       [4.2, 1.4, 0.2],\n",
              "       [3.1, 1.5, 0.2],\n",
              "       [3.2, 1.2, 0.2],\n",
              "       [3.5, 1.3, 0.2],\n",
              "       [3.6, 1.4, 0.1],\n",
              "       [3. , 1.3, 0.2],\n",
              "       [3.4, 1.5, 0.2],\n",
              "       [3.5, 1.3, 0.3],\n",
              "       [2.3, 1.3, 0.3],\n",
              "       [3.2, 1.3, 0.2],\n",
              "       [3.5, 1.6, 0.6],\n",
              "       [3.8, 1.9, 0.4],\n",
              "       [3. , 1.4, 0.3],\n",
              "       [3.8, 1.6, 0.2],\n",
              "       [3.2, 1.4, 0.2],\n",
              "       [3.7, 1.5, 0.2],\n",
              "       [3.3, 1.4, 0.2],\n",
              "       [3.2, 4.7, 1.4],\n",
              "       [3.2, 4.5, 1.5],\n",
              "       [3.1, 4.9, 1.5],\n",
              "       [2.3, 4. , 1.3],\n",
              "       [2.8, 4.6, 1.5],\n",
              "       [2.8, 4.5, 1.3],\n",
              "       [3.3, 4.7, 1.6],\n",
              "       [2.4, 3.3, 1. ],\n",
              "       [2.9, 4.6, 1.3],\n",
              "       [2.7, 3.9, 1.4],\n",
              "       [2. , 3.5, 1. ],\n",
              "       [3. , 4.2, 1.5],\n",
              "       [2.2, 4. , 1. ],\n",
              "       [2.9, 4.7, 1.4],\n",
              "       [2.9, 3.6, 1.3],\n",
              "       [3.1, 4.4, 1.4],\n",
              "       [3. , 4.5, 1.5],\n",
              "       [2.7, 4.1, 1. ],\n",
              "       [2.2, 4.5, 1.5],\n",
              "       [2.5, 3.9, 1.1],\n",
              "       [3.2, 4.8, 1.8],\n",
              "       [2.8, 4. , 1.3],\n",
              "       [2.5, 4.9, 1.5],\n",
              "       [2.8, 4.7, 1.2],\n",
              "       [2.9, 4.3, 1.3],\n",
              "       [3. , 4.4, 1.4],\n",
              "       [2.8, 4.8, 1.4],\n",
              "       [3. , 5. , 1.7],\n",
              "       [2.9, 4.5, 1.5],\n",
              "       [2.6, 3.5, 1. ],\n",
              "       [2.4, 3.8, 1.1],\n",
              "       [2.4, 3.7, 1. ],\n",
              "       [2.7, 3.9, 1.2],\n",
              "       [2.7, 5.1, 1.6],\n",
              "       [3. , 4.5, 1.5],\n",
              "       [3.4, 4.5, 1.6],\n",
              "       [3.1, 4.7, 1.5],\n",
              "       [2.3, 4.4, 1.3],\n",
              "       [3. , 4.1, 1.3],\n",
              "       [2.5, 4. , 1.3],\n",
              "       [2.6, 4.4, 1.2],\n",
              "       [3. , 4.6, 1.4],\n",
              "       [2.6, 4. , 1.2],\n",
              "       [2.3, 3.3, 1. ],\n",
              "       [2.7, 4.2, 1.3],\n",
              "       [3. , 4.2, 1.2],\n",
              "       [2.9, 4.2, 1.3],\n",
              "       [2.9, 4.3, 1.3],\n",
              "       [2.5, 3. , 1.1],\n",
              "       [2.8, 4.1, 1.3],\n",
              "       [3.3, 6. , 2.5],\n",
              "       [2.7, 5.1, 1.9],\n",
              "       [3. , 5.9, 2.1],\n",
              "       [2.9, 5.6, 1.8],\n",
              "       [3. , 5.8, 2.2],\n",
              "       [3. , 6.6, 2.1],\n",
              "       [2.5, 4.5, 1.7],\n",
              "       [2.9, 6.3, 1.8],\n",
              "       [2.5, 5.8, 1.8],\n",
              "       [3.6, 6.1, 2.5],\n",
              "       [3.2, 5.1, 2. ],\n",
              "       [2.7, 5.3, 1.9],\n",
              "       [3. , 5.5, 2.1],\n",
              "       [2.5, 5. , 2. ],\n",
              "       [2.8, 5.1, 2.4],\n",
              "       [3.2, 5.3, 2.3],\n",
              "       [3. , 5.5, 1.8],\n",
              "       [3.8, 6.7, 2.2],\n",
              "       [2.6, 6.9, 2.3],\n",
              "       [2.2, 5. , 1.5],\n",
              "       [3.2, 5.7, 2.3],\n",
              "       [2.8, 4.9, 2. ],\n",
              "       [2.8, 6.7, 2. ],\n",
              "       [2.7, 4.9, 1.8],\n",
              "       [3.3, 5.7, 2.1],\n",
              "       [3.2, 6. , 1.8],\n",
              "       [2.8, 4.8, 1.8],\n",
              "       [3. , 4.9, 1.8],\n",
              "       [2.8, 5.6, 2.1],\n",
              "       [3. , 5.8, 1.6],\n",
              "       [2.8, 6.1, 1.9],\n",
              "       [3.8, 6.4, 2. ],\n",
              "       [2.8, 5.6, 2.2],\n",
              "       [2.8, 5.1, 1.5],\n",
              "       [2.6, 5.6, 1.4],\n",
              "       [3. , 6.1, 2.3],\n",
              "       [3.4, 5.6, 2.4],\n",
              "       [3.1, 5.5, 1.8],\n",
              "       [3. , 4.8, 1.8],\n",
              "       [3.1, 5.4, 2.1],\n",
              "       [3.1, 5.6, 2.4],\n",
              "       [3.1, 5.1, 2.3],\n",
              "       [2.7, 5.1, 1.9],\n",
              "       [3.2, 5.9, 2.3],\n",
              "       [3.3, 5.7, 2.5],\n",
              "       [3. , 5.2, 2.3],\n",
              "       [2.5, 5. , 1.9],\n",
              "       [3. , 5.2, 2. ],\n",
              "       [3.4, 5.4, 2.3],\n",
              "       [3. , 5.1, 1.8]])"
            ]
          },
          "metadata": {
            "tags": []
          },
          "execution_count": 7
        }
      ]
    },
    {
      "cell_type": "code",
      "metadata": {
        "id": "JdiyJF6SO_I4"
      },
      "source": [
        "x=dataset.iloc[:,1:4].values"
      ],
      "execution_count": 8,
      "outputs": []
    },
    {
      "cell_type": "code",
      "metadata": {
        "id": "9H6U-KlWPHSB"
      },
      "source": [
        "x=dataset.iloc[:,1:4].values"
      ],
      "execution_count": 9,
      "outputs": []
    },
    {
      "cell_type": "code",
      "metadata": {
        "id": "sKW7nUojPROy"
      },
      "source": [
        "y=dataset.iloc[:,-1].values"
      ],
      "execution_count": 10,
      "outputs": []
    },
    {
      "cell_type": "code",
      "metadata": {
        "colab": {
          "base_uri": "https://localhost:8080/"
        },
        "id": "XPBbDXzgPVAP",
        "outputId": "084ac268-71ff-45f5-f9b2-67501345b93c"
      },
      "source": [
        "y"
      ],
      "execution_count": 11,
      "outputs": [
        {
          "output_type": "execute_result",
          "data": {
            "text/plain": [
              "array(['setosa', 'setosa', 'setosa', 'setosa', 'setosa', 'setosa',\n",
              "       'setosa', 'setosa', 'setosa', 'setosa', 'setosa', 'setosa',\n",
              "       'setosa', 'setosa', 'setosa', 'setosa', 'setosa', 'setosa',\n",
              "       'setosa', 'setosa', 'setosa', 'setosa', 'setosa', 'setosa',\n",
              "       'setosa', 'setosa', 'setosa', 'setosa', 'setosa', 'setosa',\n",
              "       'setosa', 'setosa', 'setosa', 'setosa', 'setosa', 'setosa',\n",
              "       'setosa', 'setosa', 'setosa', 'setosa', 'setosa', 'setosa',\n",
              "       'setosa', 'setosa', 'setosa', 'setosa', 'setosa', 'setosa',\n",
              "       'setosa', 'setosa', 'versicolor', 'versicolor', 'versicolor',\n",
              "       'versicolor', 'versicolor', 'versicolor', 'versicolor',\n",
              "       'versicolor', 'versicolor', 'versicolor', 'versicolor',\n",
              "       'versicolor', 'versicolor', 'versicolor', 'versicolor',\n",
              "       'versicolor', 'versicolor', 'versicolor', 'versicolor',\n",
              "       'versicolor', 'versicolor', 'versicolor', 'versicolor',\n",
              "       'versicolor', 'versicolor', 'versicolor', 'versicolor',\n",
              "       'versicolor', 'versicolor', 'versicolor', 'versicolor',\n",
              "       'versicolor', 'versicolor', 'versicolor', 'versicolor',\n",
              "       'versicolor', 'versicolor', 'versicolor', 'versicolor',\n",
              "       'versicolor', 'versicolor', 'versicolor', 'versicolor',\n",
              "       'versicolor', 'versicolor', 'versicolor', 'versicolor',\n",
              "       'versicolor', 'versicolor', 'versicolor', 'virginica', 'virginica',\n",
              "       'virginica', 'virginica', 'virginica', 'virginica', 'virginica',\n",
              "       'virginica', 'virginica', 'virginica', 'virginica', 'virginica',\n",
              "       'virginica', 'virginica', 'virginica', 'virginica', 'virginica',\n",
              "       'virginica', 'virginica', 'virginica', 'virginica', 'virginica',\n",
              "       'virginica', 'virginica', 'virginica', 'virginica', 'virginica',\n",
              "       'virginica', 'virginica', 'virginica', 'virginica', 'virginica',\n",
              "       'virginica', 'virginica', 'virginica', 'virginica', 'virginica',\n",
              "       'virginica', 'virginica', 'virginica', 'virginica', 'virginica',\n",
              "       'virginica', 'virginica', 'virginica', 'virginica', 'virginica',\n",
              "       'virginica', 'virginica', 'virginica'], dtype=object)"
            ]
          },
          "metadata": {
            "tags": []
          },
          "execution_count": 11
        }
      ]
    },
    {
      "cell_type": "code",
      "metadata": {
        "id": "WrLVZbPCPZFh"
      },
      "source": [
        "from sklearn.preprocessing import LabelEncoder\r\n",
        "LabelEncoder_y = LabelEncoder()\r\n",
        "y = LabelEncoder_y.fit_transform(y)"
      ],
      "execution_count": 12,
      "outputs": []
    },
    {
      "cell_type": "code",
      "metadata": {
        "colab": {
          "base_uri": "https://localhost:8080/"
        },
        "id": "8p0GTuXnPgIA",
        "outputId": "d0cb3905-afd8-4f54-d8c0-93e47192de9e"
      },
      "source": [
        "y"
      ],
      "execution_count": 13,
      "outputs": [
        {
          "output_type": "execute_result",
          "data": {
            "text/plain": [
              "array([0, 0, 0, 0, 0, 0, 0, 0, 0, 0, 0, 0, 0, 0, 0, 0, 0, 0, 0, 0, 0, 0,\n",
              "       0, 0, 0, 0, 0, 0, 0, 0, 0, 0, 0, 0, 0, 0, 0, 0, 0, 0, 0, 0, 0, 0,\n",
              "       0, 0, 0, 0, 0, 0, 1, 1, 1, 1, 1, 1, 1, 1, 1, 1, 1, 1, 1, 1, 1, 1,\n",
              "       1, 1, 1, 1, 1, 1, 1, 1, 1, 1, 1, 1, 1, 1, 1, 1, 1, 1, 1, 1, 1, 1,\n",
              "       1, 1, 1, 1, 1, 1, 1, 1, 1, 1, 1, 1, 2, 2, 2, 2, 2, 2, 2, 2, 2, 2,\n",
              "       2, 2, 2, 2, 2, 2, 2, 2, 2, 2, 2, 2, 2, 2, 2, 2, 2, 2, 2, 2, 2, 2,\n",
              "       2, 2, 2, 2, 2, 2, 2, 2, 2, 2, 2, 2, 2, 2, 2, 2, 2, 2])"
            ]
          },
          "metadata": {
            "tags": []
          },
          "execution_count": 13
        }
      ]
    },
    {
      "cell_type": "code",
      "metadata": {
        "colab": {
          "base_uri": "https://localhost:8080/"
        },
        "id": "OED30VBFPl79",
        "outputId": "18f13b9f-0fbf-4542-b7a8-f00df087392d"
      },
      "source": [
        "x"
      ],
      "execution_count": 14,
      "outputs": [
        {
          "output_type": "execute_result",
          "data": {
            "text/plain": [
              "array([[3.5, 1.4, 0.2],\n",
              "       [3. , 1.4, 0.2],\n",
              "       [3.2, 1.3, 0.2],\n",
              "       [3.1, 1.5, 0.2],\n",
              "       [3.6, 1.4, 0.2],\n",
              "       [3.9, 1.7, 0.4],\n",
              "       [3.4, 1.4, 0.3],\n",
              "       [3.4, 1.5, 0.2],\n",
              "       [2.9, 1.4, 0.2],\n",
              "       [3.1, 1.5, 0.1],\n",
              "       [3.7, 1.5, 0.2],\n",
              "       [3.4, 1.6, 0.2],\n",
              "       [3. , 1.4, 0.1],\n",
              "       [3. , 1.1, 0.1],\n",
              "       [4. , 1.2, 0.2],\n",
              "       [4.4, 1.5, 0.4],\n",
              "       [3.9, 1.3, 0.4],\n",
              "       [3.5, 1.4, 0.3],\n",
              "       [3.8, 1.7, 0.3],\n",
              "       [3.8, 1.5, 0.3],\n",
              "       [3.4, 1.7, 0.2],\n",
              "       [3.7, 1.5, 0.4],\n",
              "       [3.6, 1. , 0.2],\n",
              "       [3.3, 1.7, 0.5],\n",
              "       [3.4, 1.9, 0.2],\n",
              "       [3. , 1.6, 0.2],\n",
              "       [3.4, 1.6, 0.4],\n",
              "       [3.5, 1.5, 0.2],\n",
              "       [3.4, 1.4, 0.2],\n",
              "       [3.2, 1.6, 0.2],\n",
              "       [3.1, 1.6, 0.2],\n",
              "       [3.4, 1.5, 0.4],\n",
              "       [4.1, 1.5, 0.1],\n",
              "       [4.2, 1.4, 0.2],\n",
              "       [3.1, 1.5, 0.2],\n",
              "       [3.2, 1.2, 0.2],\n",
              "       [3.5, 1.3, 0.2],\n",
              "       [3.6, 1.4, 0.1],\n",
              "       [3. , 1.3, 0.2],\n",
              "       [3.4, 1.5, 0.2],\n",
              "       [3.5, 1.3, 0.3],\n",
              "       [2.3, 1.3, 0.3],\n",
              "       [3.2, 1.3, 0.2],\n",
              "       [3.5, 1.6, 0.6],\n",
              "       [3.8, 1.9, 0.4],\n",
              "       [3. , 1.4, 0.3],\n",
              "       [3.8, 1.6, 0.2],\n",
              "       [3.2, 1.4, 0.2],\n",
              "       [3.7, 1.5, 0.2],\n",
              "       [3.3, 1.4, 0.2],\n",
              "       [3.2, 4.7, 1.4],\n",
              "       [3.2, 4.5, 1.5],\n",
              "       [3.1, 4.9, 1.5],\n",
              "       [2.3, 4. , 1.3],\n",
              "       [2.8, 4.6, 1.5],\n",
              "       [2.8, 4.5, 1.3],\n",
              "       [3.3, 4.7, 1.6],\n",
              "       [2.4, 3.3, 1. ],\n",
              "       [2.9, 4.6, 1.3],\n",
              "       [2.7, 3.9, 1.4],\n",
              "       [2. , 3.5, 1. ],\n",
              "       [3. , 4.2, 1.5],\n",
              "       [2.2, 4. , 1. ],\n",
              "       [2.9, 4.7, 1.4],\n",
              "       [2.9, 3.6, 1.3],\n",
              "       [3.1, 4.4, 1.4],\n",
              "       [3. , 4.5, 1.5],\n",
              "       [2.7, 4.1, 1. ],\n",
              "       [2.2, 4.5, 1.5],\n",
              "       [2.5, 3.9, 1.1],\n",
              "       [3.2, 4.8, 1.8],\n",
              "       [2.8, 4. , 1.3],\n",
              "       [2.5, 4.9, 1.5],\n",
              "       [2.8, 4.7, 1.2],\n",
              "       [2.9, 4.3, 1.3],\n",
              "       [3. , 4.4, 1.4],\n",
              "       [2.8, 4.8, 1.4],\n",
              "       [3. , 5. , 1.7],\n",
              "       [2.9, 4.5, 1.5],\n",
              "       [2.6, 3.5, 1. ],\n",
              "       [2.4, 3.8, 1.1],\n",
              "       [2.4, 3.7, 1. ],\n",
              "       [2.7, 3.9, 1.2],\n",
              "       [2.7, 5.1, 1.6],\n",
              "       [3. , 4.5, 1.5],\n",
              "       [3.4, 4.5, 1.6],\n",
              "       [3.1, 4.7, 1.5],\n",
              "       [2.3, 4.4, 1.3],\n",
              "       [3. , 4.1, 1.3],\n",
              "       [2.5, 4. , 1.3],\n",
              "       [2.6, 4.4, 1.2],\n",
              "       [3. , 4.6, 1.4],\n",
              "       [2.6, 4. , 1.2],\n",
              "       [2.3, 3.3, 1. ],\n",
              "       [2.7, 4.2, 1.3],\n",
              "       [3. , 4.2, 1.2],\n",
              "       [2.9, 4.2, 1.3],\n",
              "       [2.9, 4.3, 1.3],\n",
              "       [2.5, 3. , 1.1],\n",
              "       [2.8, 4.1, 1.3],\n",
              "       [3.3, 6. , 2.5],\n",
              "       [2.7, 5.1, 1.9],\n",
              "       [3. , 5.9, 2.1],\n",
              "       [2.9, 5.6, 1.8],\n",
              "       [3. , 5.8, 2.2],\n",
              "       [3. , 6.6, 2.1],\n",
              "       [2.5, 4.5, 1.7],\n",
              "       [2.9, 6.3, 1.8],\n",
              "       [2.5, 5.8, 1.8],\n",
              "       [3.6, 6.1, 2.5],\n",
              "       [3.2, 5.1, 2. ],\n",
              "       [2.7, 5.3, 1.9],\n",
              "       [3. , 5.5, 2.1],\n",
              "       [2.5, 5. , 2. ],\n",
              "       [2.8, 5.1, 2.4],\n",
              "       [3.2, 5.3, 2.3],\n",
              "       [3. , 5.5, 1.8],\n",
              "       [3.8, 6.7, 2.2],\n",
              "       [2.6, 6.9, 2.3],\n",
              "       [2.2, 5. , 1.5],\n",
              "       [3.2, 5.7, 2.3],\n",
              "       [2.8, 4.9, 2. ],\n",
              "       [2.8, 6.7, 2. ],\n",
              "       [2.7, 4.9, 1.8],\n",
              "       [3.3, 5.7, 2.1],\n",
              "       [3.2, 6. , 1.8],\n",
              "       [2.8, 4.8, 1.8],\n",
              "       [3. , 4.9, 1.8],\n",
              "       [2.8, 5.6, 2.1],\n",
              "       [3. , 5.8, 1.6],\n",
              "       [2.8, 6.1, 1.9],\n",
              "       [3.8, 6.4, 2. ],\n",
              "       [2.8, 5.6, 2.2],\n",
              "       [2.8, 5.1, 1.5],\n",
              "       [2.6, 5.6, 1.4],\n",
              "       [3. , 6.1, 2.3],\n",
              "       [3.4, 5.6, 2.4],\n",
              "       [3.1, 5.5, 1.8],\n",
              "       [3. , 4.8, 1.8],\n",
              "       [3.1, 5.4, 2.1],\n",
              "       [3.1, 5.6, 2.4],\n",
              "       [3.1, 5.1, 2.3],\n",
              "       [2.7, 5.1, 1.9],\n",
              "       [3.2, 5.9, 2.3],\n",
              "       [3.3, 5.7, 2.5],\n",
              "       [3. , 5.2, 2.3],\n",
              "       [2.5, 5. , 1.9],\n",
              "       [3. , 5.2, 2. ],\n",
              "       [3.4, 5.4, 2.3],\n",
              "       [3. , 5.1, 1.8]])"
            ]
          },
          "metadata": {
            "tags": []
          },
          "execution_count": 14
        }
      ]
    },
    {
      "cell_type": "code",
      "metadata": {
        "id": "87m8-7rXPrZR"
      },
      "source": [
        "from sklearn.model_selection import train_test_split\r\n",
        "x_train, x_test, y_train, y_test = train_test_split(x,y,test_size=0.2)"
      ],
      "execution_count": 15,
      "outputs": []
    },
    {
      "cell_type": "code",
      "metadata": {
        "colab": {
          "base_uri": "https://localhost:8080/"
        },
        "id": "ck01Ai0JP1IY",
        "outputId": "c0ab6845-e7ca-4598-9a49-c94090814821"
      },
      "source": [
        "from sklearn.linear_model import LogisticRegression\r\n",
        "logmodel = LogisticRegression()\r\n",
        "logmodel.fit(x_train,y_train)"
      ],
      "execution_count": 16,
      "outputs": [
        {
          "output_type": "execute_result",
          "data": {
            "text/plain": [
              "LogisticRegression(C=1.0, class_weight=None, dual=False, fit_intercept=True,\n",
              "                   intercept_scaling=1, l1_ratio=None, max_iter=100,\n",
              "                   multi_class='auto', n_jobs=None, penalty='l2',\n",
              "                   random_state=None, solver='lbfgs', tol=0.0001, verbose=0,\n",
              "                   warm_start=False)"
            ]
          },
          "metadata": {
            "tags": []
          },
          "execution_count": 16
        }
      ]
    },
    {
      "cell_type": "code",
      "metadata": {
        "id": "nTuabn5TP4eo"
      },
      "source": [
        "y_pred = logmodel.predict(x_test)"
      ],
      "execution_count": 17,
      "outputs": []
    },
    {
      "cell_type": "code",
      "metadata": {
        "colab": {
          "base_uri": "https://localhost:8080/"
        },
        "id": "LLKLvqllP93g",
        "outputId": "e379fc1b-1b85-4e83-8c87-1ab839404ed2"
      },
      "source": [
        "y_pred"
      ],
      "execution_count": 18,
      "outputs": [
        {
          "output_type": "execute_result",
          "data": {
            "text/plain": [
              "array([0, 2, 1, 2, 0, 2, 1, 1, 0, 2, 2, 2, 0, 0, 1, 2, 0, 1, 2, 2, 2, 1,\n",
              "       0, 1, 1, 2, 0, 0, 1, 2])"
            ]
          },
          "metadata": {
            "tags": []
          },
          "execution_count": 18
        }
      ]
    },
    {
      "cell_type": "code",
      "metadata": {
        "colab": {
          "base_uri": "https://localhost:8080/"
        },
        "id": "yGcZHHOkQB3J",
        "outputId": "7b34019d-8639-4f94-e75d-1fc377f54208"
      },
      "source": [
        "y_test"
      ],
      "execution_count": 19,
      "outputs": [
        {
          "output_type": "execute_result",
          "data": {
            "text/plain": [
              "array([0, 2, 1, 2, 0, 2, 1, 1, 0, 2, 2, 2, 0, 0, 1, 2, 0, 2, 2, 2, 2, 1,\n",
              "       0, 1, 1, 2, 0, 0, 1, 2])"
            ]
          },
          "metadata": {
            "tags": []
          },
          "execution_count": 19
        }
      ]
    },
    {
      "cell_type": "code",
      "metadata": {
        "colab": {
          "base_uri": "https://localhost:8080/"
        },
        "id": "KGOKvbk-QG2C",
        "outputId": "89b52f0a-66ff-4dbf-92ee-6c5a387d2698"
      },
      "source": [
        "from sklearn.metrics import confusion_matrix\r\n",
        "confusion_matrix(y_test, y_pred)"
      ],
      "execution_count": 20,
      "outputs": [
        {
          "output_type": "execute_result",
          "data": {
            "text/plain": [
              "array([[ 9,  0,  0],\n",
              "       [ 0,  8,  0],\n",
              "       [ 0,  1, 12]])"
            ]
          },
          "metadata": {
            "tags": []
          },
          "execution_count": 20
        }
      ]
    },
    {
      "cell_type": "code",
      "metadata": {
        "colab": {
          "base_uri": "https://localhost:8080/"
        },
        "id": "htVvKU-DQdwq",
        "outputId": "b5bdb8ea-1b3a-4df3-a52e-62b9de73d74a"
      },
      "source": [
        "27/30"
      ],
      "execution_count": 21,
      "outputs": [
        {
          "output_type": "execute_result",
          "data": {
            "text/plain": [
              "0.9"
            ]
          },
          "metadata": {
            "tags": []
          },
          "execution_count": 21
        }
      ]
    },
    {
      "cell_type": "code",
      "metadata": {
        "colab": {
          "base_uri": "https://localhost:8080/"
        },
        "id": "XUKbSIilQguO",
        "outputId": "fed91886-b0eb-42f3-f64d-57f1ec99650f"
      },
      "source": [
        "from sklearn.neighbors import KNeighborsClassifier\r\n",
        "classifier_knn = KNeighborsClassifier(n_neighbors = 5, metric = 'minkowski', p=2)\r\n",
        "classifier_knn.fit(x_train, y_train)"
      ],
      "execution_count": 22,
      "outputs": [
        {
          "output_type": "execute_result",
          "data": {
            "text/plain": [
              "KNeighborsClassifier(algorithm='auto', leaf_size=30, metric='minkowski',\n",
              "                     metric_params=None, n_jobs=None, n_neighbors=5, p=2,\n",
              "                     weights='uniform')"
            ]
          },
          "metadata": {
            "tags": []
          },
          "execution_count": 22
        }
      ]
    },
    {
      "cell_type": "code",
      "metadata": {
        "id": "UZsDJ2nNQlZN"
      },
      "source": [
        "y_pred = classifier_knn.predict(x_test)"
      ],
      "execution_count": 23,
      "outputs": []
    },
    {
      "cell_type": "code",
      "metadata": {
        "colab": {
          "base_uri": "https://localhost:8080/"
        },
        "id": "nCbB7e_zQotk",
        "outputId": "b4ccbd09-da06-41bc-b3b2-ad0a4546ebb8"
      },
      "source": [
        "confusion_matrix(y_test,y_pred)"
      ],
      "execution_count": 24,
      "outputs": [
        {
          "output_type": "execute_result",
          "data": {
            "text/plain": [
              "array([[ 9,  0,  0],\n",
              "       [ 0,  8,  0],\n",
              "       [ 0,  0, 13]])"
            ]
          },
          "metadata": {
            "tags": []
          },
          "execution_count": 24
        }
      ]
    },
    {
      "cell_type": "code",
      "metadata": {
        "colab": {
          "base_uri": "https://localhost:8080/"
        },
        "id": "-EwVCpU5Qr3q",
        "outputId": "705e636a-2bef-42a1-c1b4-957a7377d3da"
      },
      "source": [
        "28/30"
      ],
      "execution_count": 25,
      "outputs": [
        {
          "output_type": "execute_result",
          "data": {
            "text/plain": [
              "0.9333333333333333"
            ]
          },
          "metadata": {
            "tags": []
          },
          "execution_count": 25
        }
      ]
    },
    {
      "cell_type": "code",
      "metadata": {
        "colab": {
          "base_uri": "https://localhost:8080/"
        },
        "id": "6otNhMcOQwBa",
        "outputId": "243dfa9f-aa9f-4db9-db6f-40700c4310dc"
      },
      "source": [
        "from sklearn.naive_bayes import GaussianNB\r\n",
        "classifier_nb = GaussianNB()\r\n",
        "classifier_nb.fit(x_train,y_train)"
      ],
      "execution_count": 26,
      "outputs": [
        {
          "output_type": "execute_result",
          "data": {
            "text/plain": [
              "GaussianNB(priors=None, var_smoothing=1e-09)"
            ]
          },
          "metadata": {
            "tags": []
          },
          "execution_count": 26
        }
      ]
    },
    {
      "cell_type": "code",
      "metadata": {
        "id": "S5z3ycdGQzrx"
      },
      "source": [
        "y_pred = classifier_nb.predict(x_test)"
      ],
      "execution_count": 27,
      "outputs": []
    },
    {
      "cell_type": "code",
      "metadata": {
        "colab": {
          "base_uri": "https://localhost:8080/"
        },
        "id": "qInCxJH4Q4_X",
        "outputId": "dee82bcc-ded6-465f-9f5d-f689ce6aa249"
      },
      "source": [
        "confusion_matrix(y_test,y_pred)"
      ],
      "execution_count": 28,
      "outputs": [
        {
          "output_type": "execute_result",
          "data": {
            "text/plain": [
              "array([[ 9,  0,  0],\n",
              "       [ 0,  7,  1],\n",
              "       [ 0,  0, 13]])"
            ]
          },
          "metadata": {
            "tags": []
          },
          "execution_count": 28
        }
      ]
    },
    {
      "cell_type": "code",
      "metadata": {
        "colab": {
          "base_uri": "https://localhost:8080/"
        },
        "id": "N-Irzot1Q8Sj",
        "outputId": "4e7bc574-0f4a-47f8-a053-9c404ca9412d"
      },
      "source": [
        "from sklearn.tree import DecisionTreeClassifier\r\n",
        "classifier_dt = DecisionTreeClassifier(criterion = 'entropy')\r\n",
        "classifier_dt.fit(x_train,y_train)"
      ],
      "execution_count": 29,
      "outputs": [
        {
          "output_type": "execute_result",
          "data": {
            "text/plain": [
              "DecisionTreeClassifier(ccp_alpha=0.0, class_weight=None, criterion='entropy',\n",
              "                       max_depth=None, max_features=None, max_leaf_nodes=None,\n",
              "                       min_impurity_decrease=0.0, min_impurity_split=None,\n",
              "                       min_samples_leaf=1, min_samples_split=2,\n",
              "                       min_weight_fraction_leaf=0.0, presort='deprecated',\n",
              "                       random_state=None, splitter='best')"
            ]
          },
          "metadata": {
            "tags": []
          },
          "execution_count": 29
        }
      ]
    },
    {
      "cell_type": "code",
      "metadata": {
        "id": "8XupFgSGQ_lg"
      },
      "source": [
        "y_pred = classifier_dt.predict(x_test)"
      ],
      "execution_count": 30,
      "outputs": []
    },
    {
      "cell_type": "code",
      "metadata": {
        "colab": {
          "base_uri": "https://localhost:8080/"
        },
        "id": "w_IhXnOSREDq",
        "outputId": "7beebcf1-f9ba-452a-d6e7-0ee8388bc351"
      },
      "source": [
        "confusion_matrix(y_test,y_pred)"
      ],
      "execution_count": 31,
      "outputs": [
        {
          "output_type": "execute_result",
          "data": {
            "text/plain": [
              "array([[ 9,  0,  0],\n",
              "       [ 0,  7,  1],\n",
              "       [ 0,  0, 13]])"
            ]
          },
          "metadata": {
            "tags": []
          },
          "execution_count": 31
        }
      ]
    },
    {
      "cell_type": "code",
      "metadata": {
        "id": "KYMb1sR2RH4G"
      },
      "source": [
        ""
      ],
      "execution_count": null,
      "outputs": []
    }
  ]
}